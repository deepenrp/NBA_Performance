{
 "cells": [
  {
   "cell_type": "code",
   "execution_count": 21,
   "metadata": {},
   "outputs": [],
   "source": [
    "import tkinter as tk \n",
    "from pandas import DataFrame\n",
    "import pandas as pd\n",
    "import numpy as np\n",
    "import matplotlib.pyplot as plt\n",
    "from matplotlib.backends.backend_tkagg import FigureCanvasTkAgg\n",
    "import seaborn as sb\n",
    "import seaborn as sns\n",
    "from sklearn.model_selection import train_test_split\n",
    "from sklearn import linear_model\n",
    "from sklearn.svm import SVR\n",
    "from sklearn import neighbors\n",
    "from sklearn.model_selection import cross_val_score\n",
    "from sklearn.metrics import mean_squared_error, mean_absolute_error, r2_score\n",
    "from operator import itemgetter\n",
    "from urllib.request import urlopen\n",
    "from bs4 import BeautifulSoup\n",
    "from sklearn.decomposition import PCA"
   ]
  },
  {
   "cell_type": "code",
   "execution_count": 22,
   "metadata": {},
   "outputs": [
    {
     "data": {
      "text/html": [
       "<div>\n",
       "<style scoped>\n",
       "    .dataframe tbody tr th:only-of-type {\n",
       "        vertical-align: middle;\n",
       "    }\n",
       "\n",
       "    .dataframe tbody tr th {\n",
       "        vertical-align: top;\n",
       "    }\n",
       "\n",
       "    .dataframe thead th {\n",
       "        text-align: right;\n",
       "    }\n",
       "</style>\n",
       "<table border=\"1\" class=\"dataframe\">\n",
       "  <thead>\n",
       "    <tr style=\"text-align: right;\">\n",
       "      <th></th>\n",
       "      <th>ID</th>\n",
       "      <th>Player_name</th>\n",
       "      <th>Date</th>\n",
       "      <th>Team</th>\n",
       "      <th>Opp</th>\n",
       "      <th>H/A</th>\n",
       "      <th>GTime(ET)</th>\n",
       "      <th>Team pts</th>\n",
       "      <th>Opp pts</th>\n",
       "      <th>Win-Lose</th>\n",
       "      <th>...</th>\n",
       "      <th>rb</th>\n",
       "      <th>as</th>\n",
       "      <th>st</th>\n",
       "      <th>bl</th>\n",
       "      <th>to</th>\n",
       "      <th>trey</th>\n",
       "      <th>FGM</th>\n",
       "      <th>FGA</th>\n",
       "      <th>FTM</th>\n",
       "      <th>FTA</th>\n",
       "    </tr>\n",
       "  </thead>\n",
       "  <tbody>\n",
       "    <tr>\n",
       "      <td>0</td>\n",
       "      <td>5679</td>\n",
       "      <td>Drew_Eubanks</td>\n",
       "      <td>20200110</td>\n",
       "      <td>sas</td>\n",
       "      <td>mem</td>\n",
       "      <td>0</td>\n",
       "      <td>20.0</td>\n",
       "      <td>121.0</td>\n",
       "      <td>134.0</td>\n",
       "      <td>0</td>\n",
       "      <td>...</td>\n",
       "      <td>0</td>\n",
       "      <td>0</td>\n",
       "      <td>0</td>\n",
       "      <td>0</td>\n",
       "      <td>0</td>\n",
       "      <td>0</td>\n",
       "      <td>0</td>\n",
       "      <td>0</td>\n",
       "      <td>2</td>\n",
       "      <td>2</td>\n",
       "    </tr>\n",
       "    <tr>\n",
       "      <td>1</td>\n",
       "      <td>5679</td>\n",
       "      <td>Drew_Eubanks</td>\n",
       "      <td>20200108</td>\n",
       "      <td>sas</td>\n",
       "      <td>bos</td>\n",
       "      <td>0</td>\n",
       "      <td>19.0</td>\n",
       "      <td>129.0</td>\n",
       "      <td>114.0</td>\n",
       "      <td>1</td>\n",
       "      <td>...</td>\n",
       "      <td>0</td>\n",
       "      <td>0</td>\n",
       "      <td>0</td>\n",
       "      <td>0</td>\n",
       "      <td>0</td>\n",
       "      <td>0</td>\n",
       "      <td>1</td>\n",
       "      <td>1</td>\n",
       "      <td>0</td>\n",
       "      <td>0</td>\n",
       "    </tr>\n",
       "    <tr>\n",
       "      <td>2</td>\n",
       "      <td>5679</td>\n",
       "      <td>Drew_Eubanks</td>\n",
       "      <td>20191228</td>\n",
       "      <td>sas</td>\n",
       "      <td>det</td>\n",
       "      <td>1</td>\n",
       "      <td>20.5</td>\n",
       "      <td>136.0</td>\n",
       "      <td>109.0</td>\n",
       "      <td>1</td>\n",
       "      <td>...</td>\n",
       "      <td>3</td>\n",
       "      <td>0</td>\n",
       "      <td>0</td>\n",
       "      <td>0</td>\n",
       "      <td>0</td>\n",
       "      <td>0</td>\n",
       "      <td>3</td>\n",
       "      <td>3</td>\n",
       "      <td>0</td>\n",
       "      <td>0</td>\n",
       "    </tr>\n",
       "    <tr>\n",
       "      <td>3</td>\n",
       "      <td>5679</td>\n",
       "      <td>Drew_Eubanks</td>\n",
       "      <td>20191203</td>\n",
       "      <td>sas</td>\n",
       "      <td>hou</td>\n",
       "      <td>1</td>\n",
       "      <td>20.5</td>\n",
       "      <td>135.0</td>\n",
       "      <td>133.0</td>\n",
       "      <td>1</td>\n",
       "      <td>...</td>\n",
       "      <td>2</td>\n",
       "      <td>1</td>\n",
       "      <td>0</td>\n",
       "      <td>0</td>\n",
       "      <td>1</td>\n",
       "      <td>0</td>\n",
       "      <td>1</td>\n",
       "      <td>1</td>\n",
       "      <td>0</td>\n",
       "      <td>0</td>\n",
       "    </tr>\n",
       "    <tr>\n",
       "      <td>4</td>\n",
       "      <td>5679</td>\n",
       "      <td>Drew_Eubanks</td>\n",
       "      <td>20191201</td>\n",
       "      <td>sas</td>\n",
       "      <td>det</td>\n",
       "      <td>0</td>\n",
       "      <td>17.0</td>\n",
       "      <td>98.0</td>\n",
       "      <td>132.0</td>\n",
       "      <td>0</td>\n",
       "      <td>...</td>\n",
       "      <td>8</td>\n",
       "      <td>1</td>\n",
       "      <td>0</td>\n",
       "      <td>1</td>\n",
       "      <td>2</td>\n",
       "      <td>0</td>\n",
       "      <td>4</td>\n",
       "      <td>6</td>\n",
       "      <td>1</td>\n",
       "      <td>1</td>\n",
       "    </tr>\n",
       "    <tr>\n",
       "      <td>...</td>\n",
       "      <td>...</td>\n",
       "      <td>...</td>\n",
       "      <td>...</td>\n",
       "      <td>...</td>\n",
       "      <td>...</td>\n",
       "      <td>...</td>\n",
       "      <td>...</td>\n",
       "      <td>...</td>\n",
       "      <td>...</td>\n",
       "      <td>...</td>\n",
       "      <td>...</td>\n",
       "      <td>...</td>\n",
       "      <td>...</td>\n",
       "      <td>...</td>\n",
       "      <td>...</td>\n",
       "      <td>...</td>\n",
       "      <td>...</td>\n",
       "      <td>...</td>\n",
       "      <td>...</td>\n",
       "      <td>...</td>\n",
       "      <td>...</td>\n",
       "    </tr>\n",
       "    <tr>\n",
       "      <td>15634</td>\n",
       "      <td>4817</td>\n",
       "      <td>Willie_Cauley-Stein</td>\n",
       "      <td>20191106</td>\n",
       "      <td>gsw</td>\n",
       "      <td>hou</td>\n",
       "      <td>0</td>\n",
       "      <td>19.5</td>\n",
       "      <td>112.0</td>\n",
       "      <td>129.0</td>\n",
       "      <td>0</td>\n",
       "      <td>...</td>\n",
       "      <td>4</td>\n",
       "      <td>2</td>\n",
       "      <td>0</td>\n",
       "      <td>0</td>\n",
       "      <td>0</td>\n",
       "      <td>0</td>\n",
       "      <td>1</td>\n",
       "      <td>6</td>\n",
       "      <td>2</td>\n",
       "      <td>2</td>\n",
       "    </tr>\n",
       "    <tr>\n",
       "      <td>15635</td>\n",
       "      <td>4817</td>\n",
       "      <td>Willie_Cauley-Stein</td>\n",
       "      <td>20191104</td>\n",
       "      <td>gsw</td>\n",
       "      <td>por</td>\n",
       "      <td>1</td>\n",
       "      <td>22.5</td>\n",
       "      <td>127.0</td>\n",
       "      <td>118.0</td>\n",
       "      <td>1</td>\n",
       "      <td>...</td>\n",
       "      <td>3</td>\n",
       "      <td>2</td>\n",
       "      <td>2</td>\n",
       "      <td>0</td>\n",
       "      <td>1</td>\n",
       "      <td>0</td>\n",
       "      <td>4</td>\n",
       "      <td>5</td>\n",
       "      <td>2</td>\n",
       "      <td>2</td>\n",
       "    </tr>\n",
       "    <tr>\n",
       "      <td>15636</td>\n",
       "      <td>4817</td>\n",
       "      <td>Willie_Cauley-Stein</td>\n",
       "      <td>20191102</td>\n",
       "      <td>gsw</td>\n",
       "      <td>cha</td>\n",
       "      <td>1</td>\n",
       "      <td>20.5</td>\n",
       "      <td>87.0</td>\n",
       "      <td>93.0</td>\n",
       "      <td>0</td>\n",
       "      <td>...</td>\n",
       "      <td>8</td>\n",
       "      <td>2</td>\n",
       "      <td>1</td>\n",
       "      <td>1</td>\n",
       "      <td>0</td>\n",
       "      <td>0</td>\n",
       "      <td>4</td>\n",
       "      <td>7</td>\n",
       "      <td>0</td>\n",
       "      <td>0</td>\n",
       "    </tr>\n",
       "    <tr>\n",
       "      <td>15637</td>\n",
       "      <td>4817</td>\n",
       "      <td>Willie_Cauley-Stein</td>\n",
       "      <td>20191101</td>\n",
       "      <td>gsw</td>\n",
       "      <td>sas</td>\n",
       "      <td>1</td>\n",
       "      <td>22.5</td>\n",
       "      <td>110.0</td>\n",
       "      <td>127.0</td>\n",
       "      <td>0</td>\n",
       "      <td>...</td>\n",
       "      <td>5</td>\n",
       "      <td>0</td>\n",
       "      <td>1</td>\n",
       "      <td>0</td>\n",
       "      <td>0</td>\n",
       "      <td>0</td>\n",
       "      <td>3</td>\n",
       "      <td>7</td>\n",
       "      <td>0</td>\n",
       "      <td>0</td>\n",
       "    </tr>\n",
       "    <tr>\n",
       "      <td>15638</td>\n",
       "      <td>4817</td>\n",
       "      <td>Willie_Cauley-Stein</td>\n",
       "      <td>20191030</td>\n",
       "      <td>gsw</td>\n",
       "      <td>pho</td>\n",
       "      <td>1</td>\n",
       "      <td>22.5</td>\n",
       "      <td>110.0</td>\n",
       "      <td>121.0</td>\n",
       "      <td>0</td>\n",
       "      <td>...</td>\n",
       "      <td>5</td>\n",
       "      <td>1</td>\n",
       "      <td>0</td>\n",
       "      <td>1</td>\n",
       "      <td>0</td>\n",
       "      <td>0</td>\n",
       "      <td>5</td>\n",
       "      <td>5</td>\n",
       "      <td>2</td>\n",
       "      <td>2</td>\n",
       "    </tr>\n",
       "  </tbody>\n",
       "</table>\n",
       "<p>15639 rows × 32 columns</p>\n",
       "</div>"
      ],
      "text/plain": [
       "         ID          Player_name      Date Team  Opp  H/A  GTime(ET)  \\\n",
       "0      5679         Drew_Eubanks  20200110  sas  mem    0       20.0   \n",
       "1      5679         Drew_Eubanks  20200108  sas  bos    0       19.0   \n",
       "2      5679         Drew_Eubanks  20191228  sas  det    1       20.5   \n",
       "3      5679         Drew_Eubanks  20191203  sas  hou    1       20.5   \n",
       "4      5679         Drew_Eubanks  20191201  sas  det    0       17.0   \n",
       "...     ...                  ...       ...  ...  ...  ...        ...   \n",
       "15634  4817  Willie_Cauley-Stein  20191106  gsw  hou    0       19.5   \n",
       "15635  4817  Willie_Cauley-Stein  20191104  gsw  por    1       22.5   \n",
       "15636  4817  Willie_Cauley-Stein  20191102  gsw  cha    1       20.5   \n",
       "15637  4817  Willie_Cauley-Stein  20191101  gsw  sas    1       22.5   \n",
       "15638  4817  Willie_Cauley-Stein  20191030  gsw  pho    1       22.5   \n",
       "\n",
       "       Team pts  Opp pts  Win-Lose  ...  rb  as  st  bl  to  trey  FGM  FGA  \\\n",
       "0         121.0    134.0         0  ...   0   0   0   0   0     0    0    0   \n",
       "1         129.0    114.0         1  ...   0   0   0   0   0     0    1    1   \n",
       "2         136.0    109.0         1  ...   3   0   0   0   0     0    3    3   \n",
       "3         135.0    133.0         1  ...   2   1   0   0   1     0    1    1   \n",
       "4          98.0    132.0         0  ...   8   1   0   1   2     0    4    6   \n",
       "...         ...      ...       ...  ...  ..  ..  ..  ..  ..   ...  ...  ...   \n",
       "15634     112.0    129.0         0  ...   4   2   0   0   0     0    1    6   \n",
       "15635     127.0    118.0         1  ...   3   2   2   0   1     0    4    5   \n",
       "15636      87.0     93.0         0  ...   8   2   1   1   0     0    4    7   \n",
       "15637     110.0    127.0         0  ...   5   0   1   0   0     0    3    7   \n",
       "15638     110.0    121.0         0  ...   5   1   0   1   0     0    5    5   \n",
       "\n",
       "       FTM  FTA  \n",
       "0        2    2  \n",
       "1        0    0  \n",
       "2        0    0  \n",
       "3        0    0  \n",
       "4        1    1  \n",
       "...    ...  ...  \n",
       "15634    2    2  \n",
       "15635    2    2  \n",
       "15636    0    0  \n",
       "15637    0    0  \n",
       "15638    2    2  \n",
       "\n",
       "[15639 rows x 32 columns]"
      ]
     },
     "execution_count": 22,
     "metadata": {},
     "output_type": "execute_result"
    }
   ],
   "source": [
    "playerstats = pd.read_csv('Fan_Duel.csv')\n",
    "playerstats"
   ]
  },
  {
   "cell_type": "code",
   "execution_count": 39,
   "metadata": {},
   "outputs": [
    {
     "data": {
      "text/plain": [
       "Index(['ID', 'Player_name', 'Date', 'Team', 'Opp', 'H/A', 'GTime(ET)',\n",
       "       'Team pts', 'Opp pts', 'Win-Lose', 'Start', 'Mins_played', 'GP',\n",
       "       'active', 'FDP', 'DoubleD', 'TripleD', 'FD Sal', 'FD pos', 'ADI', 'VMI',\n",
       "       'pt', 'rb', 'as', 'st', 'bl', 'to', 'trey', 'FGM', 'FGA', 'FTM', 'FTA'],\n",
       "      dtype='object')"
      ]
     },
     "execution_count": 39,
     "metadata": {},
     "output_type": "execute_result"
    }
   ],
   "source": [
    "playerstats.columns"
   ]
  },
  {
   "cell_type": "code",
   "execution_count": 40,
   "metadata": {},
   "outputs": [],
   "source": [
    "# Fitting random forest regression to the dataset\n",
    "from sklearn.feature_selection import SelectKBest, mutual_info_regression, f_regression\n",
    "from sklearn.ensemble import RandomForestRegressor"
   ]
  },
  {
   "cell_type": "code",
   "execution_count": 41,
   "metadata": {},
   "outputs": [
    {
     "name": "stdout",
     "output_type": "stream",
     "text": [
      "Shape:  (15639, 24) (15639, 1)\n"
     ]
    }
   ],
   "source": [
    "X = playerstats[['H/A', 'GTime(ET)',\n",
    "       'Team pts', 'Opp pts','Start', 'Mins_played', 'GP',\n",
    "        'DoubleD', 'TripleD', 'FD Sal', 'FD pos', 'ADI', 'VMI',\n",
    "       'pt', 'rb', 'as', 'st', 'bl', 'to', 'trey', 'FGM', 'FGA', 'FTM', 'FTA']]\n",
    "y = playerstats[\"FDP\"].values.reshape(-1, 1)\n",
    "print(\"Shape: \", X.shape, y.shape)"
   ]
  },
  {
   "cell_type": "code",
   "execution_count": 42,
   "metadata": {},
   "outputs": [],
   "source": [
    "# Select x and y data and convert to numpy array\n",
    "features = ['H/A', 'GTime(ET)',\n",
    "       'Team pts', 'Opp pts','Start', 'Mins_played', 'GP',\n",
    "       'DoubleD', 'TripleD', 'FD Sal', 'FD pos', 'ADI', 'VMI',\n",
    "       'pt', 'rb', 'as', 'st', 'bl', 'to', 'trey', 'FGM', 'FGA', 'FTM', 'FTA']\n",
    "x_data = playerstats[features].to_numpy()\n",
    "y_data = playerstats[['FDP']].to_numpy()\n",
    "y_data = y_data.reshape(y_data.shape[0], )"
   ]
  },
  {
   "cell_type": "code",
   "execution_count": 43,
   "metadata": {},
   "outputs": [],
   "source": [
    "# Create regressor object\n",
    "regressor = RandomForestRegressor(n_estimators=200)"
   ]
  },
  {
   "cell_type": "code",
   "execution_count": 44,
   "metadata": {},
   "outputs": [
    {
     "data": {
      "text/plain": [
       "RandomForestRegressor(bootstrap=True, criterion='mse', max_depth=None,\n",
       "                      max_features='auto', max_leaf_nodes=None,\n",
       "                      min_impurity_decrease=0.0, min_impurity_split=None,\n",
       "                      min_samples_leaf=1, min_samples_split=2,\n",
       "                      min_weight_fraction_leaf=0.0, n_estimators=200,\n",
       "                      n_jobs=None, oob_score=False, random_state=None,\n",
       "                      verbose=0, warm_start=False)"
      ]
     },
     "execution_count": 44,
     "metadata": {},
     "output_type": "execute_result"
    }
   ],
   "source": [
    "\n",
    "# Fit the regressor with x and y data\n",
    "regressor.fit(x_data, y_data)"
   ]
  },
  {
   "cell_type": "code",
   "execution_count": 45,
   "metadata": {},
   "outputs": [],
   "source": [
    "\n",
    "# Sort the values from highest to lowest\n",
    "sorted_indices = np.argsort(regressor.feature_importances_)[::-1]"
   ]
  },
  {
   "cell_type": "code",
   "execution_count": 46,
   "metadata": {},
   "outputs": [
    {
     "name": "stdout",
     "output_type": "stream",
     "text": [
      "pt: 0.7516046839583382\n",
      "rb: 0.06995670854367544\n",
      "st: 0.04263065961528134\n",
      "DoubleD: 0.04249586302454003\n",
      "as: 0.03781106125357261\n",
      "bl: 0.028017170197103876\n",
      "Mins_played: 0.009161066350730168\n",
      "to: 0.003214527615525097\n",
      "FD Sal: 0.0024152810169391042\n",
      "Team pts: 0.0016837445440068177\n",
      "VMI: 0.001547029993805536\n",
      "Opp pts: 0.0014975921777527683\n",
      "ADI: 0.0014947311258115376\n",
      "FGA: 0.0010786430957818681\n",
      "GTime(ET): 0.0009609567975320284\n",
      "FGM: 0.0009435643581422305\n",
      "FTA: 0.0007031938069690263\n",
      "FTM: 0.0006346203417373868\n",
      "FD pos: 0.0006036870305104712\n",
      "trey: 0.0006015989295656927\n",
      "TripleD: 0.0005514297347814731\n",
      "H/A: 0.000256706087113048\n",
      "Start: 0.00013548040078407582\n",
      "GP: 0.0\n"
     ]
    }
   ],
   "source": [
    "# Print the feature ranking from highest to lowest\n",
    "for index in sorted_indices:\n",
    "    print(f\"{features[index]}: {regressor.feature_importances_[index]}\")"
   ]
  },
  {
   "cell_type": "code",
   "execution_count": 47,
   "metadata": {},
   "outputs": [
    {
     "name": "stdout",
     "output_type": "stream",
     "text": [
      "(15639, 23) (15639, 1)\n"
     ]
    }
   ],
   "source": [
    "# Assign the data to X and y\n",
    "X = playerstats[['H/A', 'GTime(ET)',\n",
    "       'Team pts', 'Opp pts', 'Mins_played', 'GP',\n",
    "       'DoubleD', 'TripleD', 'FD Sal', 'FD pos', 'ADI', 'VMI',\n",
    "       'pt', 'rb', 'as', 'st', 'bl', 'to', 'trey', 'FGM', 'FGA', 'FTM', 'FTA']]\n",
    "y = playerstats[\"FDP\"].values.reshape(-1, 1)\n",
    "print(X.shape, y.shape)"
   ]
  },
  {
   "cell_type": "code",
   "execution_count": null,
   "metadata": {},
   "outputs": [],
   "source": []
  },
  {
   "cell_type": "code",
   "execution_count": 48,
   "metadata": {},
   "outputs": [],
   "source": [
    "# Use train_test_split to create training and testing data\n",
    "from sklearn.model_selection import train_test_split\n",
    "X_train, X_test, y_train, y_test = train_test_split(X, y, random_state=42)"
   ]
  },
  {
   "cell_type": "code",
   "execution_count": 49,
   "metadata": {},
   "outputs": [],
   "source": [
    "from sklearn.preprocessing import StandardScaler\n",
    "\n",
    "# Create a StandardScater model and fit it to the training data\n",
    "\n",
    "### BEGIN SOLUTION\n",
    "X_scaler = StandardScaler().fit(X_train)\n",
    "y_scaler = StandardScaler().fit(y_train)\n",
    "### END SOLUTION"
   ]
  },
  {
   "cell_type": "code",
   "execution_count": 50,
   "metadata": {},
   "outputs": [],
   "source": [
    "# Transform the training and testing data using the X_scaler and y_scaler models\n",
    "\n",
    "### BEGIN SOLUTION\n",
    "X_train_scaled = X_scaler.transform(X_train)\n",
    "X_test_scaled = X_scaler.transform(X_test)\n",
    "y_train_scaled = y_scaler.transform(y_train)\n",
    "y_test_scaled = y_scaler.transform(y_test)\n",
    "### END SOLUTION"
   ]
  },
  {
   "cell_type": "code",
   "execution_count": null,
   "metadata": {},
   "outputs": [],
   "source": []
  },
  {
   "cell_type": "code",
   "execution_count": 37,
   "metadata": {},
   "outputs": [],
   "source": [
    "# # Used X_test_scaled, y_test_scaled, and model.predict(X_test_scaled) to calculate MSE and R2\n",
    "\n",
    "# ### BEGIN SOLUTION\n",
    "# from sklearn.metrics import mean_squared_error\n",
    "\n",
    "# MSE = mean_squared_error(y_test_scaled, predictions)\n",
    "# r2 = model.score(X_test_scaled, y_test_scaled)\n",
    "# ### END SOLUTION\n",
    "\n",
    "# print(f\"MSE: {MSE}, R2: {r2}\")"
   ]
  },
  {
   "cell_type": "code",
   "execution_count": null,
   "metadata": {},
   "outputs": [],
   "source": []
  },
  {
   "cell_type": "code",
   "execution_count": 51,
   "metadata": {},
   "outputs": [
    {
     "name": "stdout",
     "output_type": "stream",
     "text": [
      "MSE: 0.0006602713137896683, R2: 0.9993574206001389\n"
     ]
    }
   ],
   "source": [
    "# LASSO model\n",
    "# Note: Use an alpha of .01 when creating the model for this activity\n",
    "from sklearn.linear_model import Lasso\n",
    "\n",
    "### BEGIN SOLUTION\n",
    "lasso = Lasso(alpha=.01).fit(X_train_scaled, y_train_scaled)\n",
    "\n",
    "predictions = lasso.predict(X_test_scaled)\n",
    "\n",
    "MSE = mean_squared_error(y_test_scaled, predictions)\n",
    "r2 = lasso.score(X_test_scaled, y_test_scaled)\n",
    "### END SOLUTION\n",
    "\n",
    "print(f\"MSE: {MSE}, R2: {r2}\")"
   ]
  },
  {
   "cell_type": "code",
   "execution_count": null,
   "metadata": {},
   "outputs": [],
   "source": []
  },
  {
   "cell_type": "code",
   "execution_count": 17,
   "metadata": {},
   "outputs": [
    {
     "data": {
      "text/plain": [
       "LinearRegression(copy_X=True, fit_intercept=True, n_jobs=None, normalize=False)"
      ]
     },
     "execution_count": 17,
     "metadata": {},
     "output_type": "execute_result"
    }
   ],
   "source": [
    "# Create a LinearRegression model and fit it to the scaled training data\n",
    "\n",
    "### BEGIN SOLUTION\n",
    "from sklearn.linear_model import LinearRegression\n",
    "model = LinearRegression()\n",
    "model.fit(X_train_scaled, y_train_scaled)\n",
    "### END SOLUTION"
   ]
  },
  {
   "cell_type": "code",
   "execution_count": null,
   "metadata": {},
   "outputs": [],
   "source": []
  },
  {
   "cell_type": "code",
   "execution_count": 13,
   "metadata": {},
   "outputs": [],
   "source": [
    "# Create the model using LinearRegression\n",
    "from sklearn.linear_model import LinearRegression\n",
    "model = LinearRegression()"
   ]
  },
  {
   "cell_type": "code",
   "execution_count": 14,
   "metadata": {},
   "outputs": [
    {
     "name": "stdout",
     "output_type": "stream",
     "text": [
      "Model Score: 1.00\n",
      "MSE: 0.00\n",
      "MAE: 0.00\n"
     ]
    }
   ],
   "source": [
    "# Fit (train) or model using the training data\n",
    "model.fit(X_train, y_train)\n",
    "\n",
    "# Make predictions\n",
    "predictions = model.predict(X_test)\n",
    "\n",
    "print('Model Score: %.2f' % model.score(X_train, y_train))\n",
    "print('MSE: %.2f' % mean_squared_error(y_test, predictions))\n",
    "print('MAE: %.2f' % mean_absolute_error(y_test, predictions))"
   ]
  },
  {
   "cell_type": "code",
   "execution_count": null,
   "metadata": {},
   "outputs": [],
   "source": []
  }
 ],
 "metadata": {
  "kernelspec": {
   "display_name": "Python 3",
   "language": "python",
   "name": "python3"
  },
  "language_info": {
   "codemirror_mode": {
    "name": "ipython",
    "version": 3
   },
   "file_extension": ".py",
   "mimetype": "text/x-python",
   "name": "python",
   "nbconvert_exporter": "python",
   "pygments_lexer": "ipython3",
   "version": "3.6.9"
  }
 },
 "nbformat": 4,
 "nbformat_minor": 2
}
